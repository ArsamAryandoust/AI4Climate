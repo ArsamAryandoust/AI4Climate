{
 "cells": [
  {
   "cell_type": "code",
   "execution_count": null,
   "id": "c41d9342-e5c8-413f-93e9-ebdb0da7f356",
   "metadata": {},
   "outputs": [],
   "source": [
    "import mat73\n",
    "import os"
   ]
  },
  {
   "cell_type": "code",
   "execution_count": null,
   "id": "df1185c5-b8ac-4760-bf89-c6800f0b4d80",
   "metadata": {},
   "outputs": [],
   "source": [
    "base_path_cascades_ieee24 = '../../donti_group_shared/AI4Climate/raw/PowerGraph_raw/dataset_cascades/ieee24/ieee24/raw/'\n",
    "base_path_cascades_ieee39 = '../../donti_group_shared/AI4Climate/raw/PowerGraph_raw/dataset_cascades/ieee39/ieee39/raw/'\n",
    "base_path_cascades_ieee118 = '../../donti_group_shared/AI4Climate/raw/PowerGraph_raw/dataset_cascades/ieee118/ieee118/raw/'\n",
    "base_path_cascades_uk = '../../donti_group_shared/AI4Climate/raw/PowerGraph_raw/dataset_cascades/uk/uk/raw/'\n",
    "\n",
    "\n",
    "uk_Bf = mat73.loadmat(os.path.join(base_path_cascades_uk, 'Bf.mat'))"
   ]
  },
  {
   "cell_type": "code",
   "execution_count": null,
   "id": "9ea4f32c-fab2-4cc9-9526-56b225c4def9",
   "metadata": {},
   "outputs": [],
   "source": []
  },
  {
   "cell_type": "code",
   "execution_count": null,
   "id": "b88c276e-a5d4-4096-bf55-431419556a30",
   "metadata": {},
   "outputs": [],
   "source": []
  },
  {
   "cell_type": "code",
   "execution_count": null,
   "id": "4993f727-c01f-47e5-8aad-4131a12e77ec",
   "metadata": {},
   "outputs": [],
   "source": []
  },
  {
   "cell_type": "code",
   "execution_count": null,
   "id": "f9573e86-561f-4513-919d-7ec4c2af6089",
   "metadata": {},
   "outputs": [],
   "source": []
  }
 ],
 "metadata": {
  "kernelspec": {
   "display_name": "Python [conda env:base] *",
   "language": "python",
   "name": "conda-base-py"
  },
  "language_info": {
   "codemirror_mode": {
    "name": "ipython",
    "version": 3
   },
   "file_extension": ".py",
   "mimetype": "text/x-python",
   "name": "python",
   "nbconvert_exporter": "python",
   "pygments_lexer": "ipython3",
   "version": "3.10.14"
  }
 },
 "nbformat": 4,
 "nbformat_minor": 5
}
